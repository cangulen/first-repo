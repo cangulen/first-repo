{
  "metadata": {
    "kernelspec": {
      "name": "python",
      "display_name": "Python (Pyodide)",
      "language": "python"
    },
    "language_info": {
      "codemirror_mode": {
        "name": "python",
        "version": 3
      },
      "file_extension": ".py",
      "mimetype": "text/x-python",
      "name": "python",
      "nbconvert_exporter": "python",
      "pygments_lexer": "ipython3",
      "version": "3.8"
    }
  },
  "nbformat_minor": 5,
  "nbformat": 4,
  "cells": [
    {
      "id": "97ca955d-a634-4c08-bf43-529785ae07aa",
      "cell_type": "markdown",
      "source": "# 2 - Submit Your Work and Grade Your Peers",
      "metadata": {}
    },
    {
      "id": "9bc4bef5-e366-43d2-bc8f-2a6f897b1374",
      "cell_type": "markdown",
      "source": "# 3 - Introduction",
      "metadata": {}
    },
    {
      "id": "c5dc509f-72c1-44e6-b558-8ba3d533df0b",
      "cell_type": "markdown",
      "source": "# 4 - Data Science Languages:\nPython\nR\nSQL\nJava\nJulia\nScala\nC/C++\nJavaScript\nSwift\nGo\nMATLAB\nSAS",
      "metadata": {}
    },
    {
      "id": "513c776a-4a0c-42a1-a3c4-0f76e36c159a",
      "cell_type": "markdown",
      "source": "# 5 - Data Science Libraries\nTensorFlow\nNumPy\nSciPy \nPandas\nMatplotlib \nKeras\nSciKit-Learn\nPyTorch\nScrapy",
      "metadata": {}
    },
    {
      "id": "84881373-d2dc-46af-a7cc-72a1d5025bf1",
      "cell_type": "markdown",
      "source": "# 6 - Data Science tools\nApache Spark\nIBM SPSS\nJupyter\nKeras\nMatlab\nMatplotlib\nNumpy\nPandas\nPython",
      "metadata": {}
    },
    {
      "id": "cd2eca9e-1b8c-4b04-a3f0-8436ab55406e",
      "cell_type": "markdown",
      "source": "# 7 - Arithmetic expression examples",
      "metadata": {}
    },
    {
      "id": "498a1aab-e2d5-445b-ad4b-58ce788aeeff",
      "cell_type": "markdown",
      "source": ".+\n.-\n.*\n./\n.%",
      "metadata": {}
    },
    {
      "id": "7ee89e23-155a-4b16-83fb-aa0244154ca2",
      "cell_type": "markdown",
      "source": "# 8 - multiply and add number",
      "metadata": {}
    },
    {
      "id": "d7aaf671-302f-4b31-a2a2-14147686b2f3",
      "cell_type": "code",
      "source": "a = 1 + 2\nb = 2 * 3\nc = 4 / 5\nd = 6 % 7\nprint(\"a:\", a , \" b:\", b , \" c:\", c , \" d:\", d )",
      "metadata": {
        "trusted": true
      },
      "outputs": [
        {
          "name": "stdout",
          "output_type": "stream",
          "text": "a: 3  b: 6  c: 0.8  d: 6\n"
        }
      ],
      "execution_count": 2
    },
    {
      "id": "c127767d-db33-4c0a-8587-f11622428443",
      "cell_type": "markdown",
      "source": "# 9 - convert minutes to hours",
      "metadata": {}
    },
    {
      "id": "7af78aad-5297-4c49-8414-bb6f55c3ea4c",
      "cell_type": "code",
      "source": "import datetime\nn= 65\ntime_m = n%60\ntime_h = n//60\nprint(\"Hours: \",time_h , \" Minutes:\", time_m)",
      "metadata": {
        "trusted": true
      },
      "outputs": [
        {
          "name": "stdout",
          "output_type": "stream",
          "text": "Hours:  1  Minutes: 5\n"
        }
      ],
      "execution_count": 32
    },
    {
      "id": "31bbbeae-01b7-4213-bfd9-769e263b1e6d",
      "cell_type": "markdown",
      "source": "# 10 - list Objectives",
      "metadata": {}
    },
    {
      "id": "ef01b6bd-ebf0-4370-8597-a399dd682c0c",
      "cell_type": "markdown",
      "source": "# 11 - Author\nCan GULEN",
      "metadata": {}
    }
  ]
}