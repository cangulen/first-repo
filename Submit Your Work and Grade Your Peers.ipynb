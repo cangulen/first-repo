{
  "cells": [
    {
      "cell_type": "code",
      "execution_count": 5,
      "id": "4c7744dd-1870-4c20-b775-afdf9f9b3fd4",
      "metadata": {
        "trusted": true
      },
      "outputs": [],
      "source": [
        "# 2 - Submit Your Work and Grade Your Peers"
      ]
    },
    {
      "cell_type": "code",
      "execution_count": 6,
      "id": "f2f60783-248d-4e97-a27b-31351c1ca847",
      "metadata": {
        "trusted": true
      },
      "outputs": [],
      "source": [
        "# 3 - Introduction"
      ]
    },
    {
      "cell_type": "code",
      "execution_count": 7,
      "id": "d09489c1-98a6-49b0-8b23-d8abc1e4d7b4",
      "metadata": {
        "trusted": true
      },
      "outputs": [],
      "source": [
        "# 4 - Data Science Languages:\n",
        "# Python\n",
        "# R\n",
        "# SQL\n",
        "# Java\n",
        "# Julia\n",
        "# Scala\n",
        "# C/C++\n",
        "# JavaScript\n",
        "# Swift\n",
        "# Go\n",
        "# MATLAB\n",
        "# SAS"
      ]
    },
    {
      "cell_type": "code",
      "execution_count": 8,
      "id": "7155ca65-2fee-4f2d-9b94-4e55d4edd69f",
      "metadata": {
        "trusted": true
      },
      "outputs": [],
      "source": [
        "# 5 - Data Science Libraries\n",
        "# TensorFlow\n",
        "# NumPy\n",
        "# SciPy \n",
        "# Pandas\n",
        "# Matplotlib \n",
        "# Keras\n",
        "# SciKit-Learn\n",
        "# PyTorch\n",
        "# Scrapy"
      ]
    },
    {
      "cell_type": "code",
      "execution_count": 9,
      "id": "6842d9c6-0288-409d-8eab-07ee47b9bdf7",
      "metadata": {
        "trusted": true
      },
      "outputs": [],
      "source": [
        "# 6 - Data Science tools\n",
        "# Apache Spark\n",
        "# IBM SPSS\n",
        "# Jupyter\n",
        "# Keras\n",
        "# Matlab\n",
        "# Matplotlib\n",
        "# Numpy\n",
        "# Pandas\n",
        "# Python"
      ]
    },
    {
      "cell_type": "code",
      "execution_count": 10,
      "id": "e8103121-41f8-4042-96dc-534b5557e9f6",
      "metadata": {
        "trusted": true
      },
      "outputs": [],
      "source": [
        "# 7 - Arithmetic expression examples"
      ]
    },
    {
      "cell_type": "code",
      "execution_count": 12,
      "id": "b69c3d5c-9c2a-4d67-ba12-1544bbc74263",
      "metadata": {
        "trusted": true
      },
      "outputs": [],
      "source": [
        "# # Arithmetic operations\n",
        "# +\n",
        "# -\n",
        "# *\n",
        "# /\n",
        "# %"
      ]
    },
    {
      "cell_type": "code",
      "execution_count": 18,
      "id": "7e8cacb1-6d11-4dc1-aee8-f3479370d1c2",
      "metadata": {
        "trusted": true
      },
      "outputs": [],
      "source": [
        "# 8 - multiply and add number"
      ]
    },
    {
      "cell_type": "code",
      "execution_count": 19,
      "id": "079b32af-f641-461c-9dc7-84cb18f7605e",
      "metadata": {
        "trusted": true
      },
      "outputs": [],
      "source": [
        "a = 1 + 2\n",
        "b = 2 * 3\n",
        "c = 4 / 5\n",
        "d = 6 % 7"
      ]
    },
    {
      "cell_type": "code",
      "execution_count": 20,
      "id": "5a280b28-bc75-4788-b0a4-cfd42fcecff5",
      "metadata": {
        "trusted": true
      },
      "outputs": [],
      "source": [
        "# 9 - convert minutes to hours"
      ]
    },
    {
      "cell_type": "code",
      "execution_count": 32,
      "id": "7af78aad-5297-4c49-8414-bb6f55c3ea4c",
      "metadata": {
        "trusted": true
      },
      "outputs": [
        {
          "name": "stdout",
          "output_type": "stream",
          "text": [
            "Hours:  1  Minutes: 5\n"
          ]
        }
      ],
      "source": [
        "n= 65\n",
        "time_m = n%60\n",
        "time_h = n//60\n",
        "print(\"Hours: \",time_h , \" Minutes:\", time_m)"
      ]
    },
    {
      "cell_type": "code",
      "execution_count": 16,
      "id": "cc9bd988-f9ef-4d7b-ac5d-55db646d54ca",
      "metadata": {
        "trusted": true
      },
      "outputs": [],
      "source": [
        "# 10 - list Objectives"
      ]
    },
    {
      "cell_type": "code",
      "execution_count": 17,
      "id": "3faec2fe-915c-42e8-8fb4-1cb7f845461f",
      "metadata": {
        "trusted": true
      },
      "outputs": [],
      "source": [
        "# 11 - Author\n",
        "# Can GULEN"
      ]
    },
    {
      "cell_type": "code",
      "execution_count": null,
      "id": "3e67cfe7-a972-4212-b46c-462c9f4c7cb1",
      "metadata": {
        "trusted": true
      },
      "outputs": [],
      "source": []
    }
  ],
  "metadata": {
    "kernelspec": {
      "display_name": "Python (Pyodide)",
      "language": "python",
      "name": "python"
    },
    "language_info": {
      "codemirror_mode": {
        "name": "python",
        "version": 3
      },
      "file_extension": ".py",
      "mimetype": "text/x-python",
      "name": "python",
      "nbconvert_exporter": "python",
      "pygments_lexer": "ipython3",
      "version": "3.8"
    }
  },
  "nbformat": 4,
  "nbformat_minor": 5
}
